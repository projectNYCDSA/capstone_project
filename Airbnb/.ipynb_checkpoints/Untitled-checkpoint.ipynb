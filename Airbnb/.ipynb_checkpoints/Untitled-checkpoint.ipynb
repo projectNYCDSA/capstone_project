{
 "cells": [
  {
   "cell_type": "code",
   "execution_count": null,
   "metadata": {
    "collapsed": true
   },
   "outputs": [],
   "source": [
    "help(open)"
   ]
  },
  {
   "cell_type": "code",
   "execution_count": null,
   "metadata": {
    "collapsed": true
   },
   "outputs": [],
   "source": [
    "print file.__doc__ "
   ]
  },
  {
   "cell_type": "code",
   "execution_count": null,
   "metadata": {
    "collapsed": true
   },
   "outputs": [],
   "source": []
  },
  {
   "cell_type": "code",
   "execution_count": 27,
   "metadata": {
    "collapsed": false
   },
   "outputs": [],
   "source": [
    "import urllib2\n",
    "\n",
    "page = urllib2.urlopen('http://databits.io/static_content/challenges/airbnb-user-pathways-challenge/airbnb_session_data.txt')\n",
    "\n",
    "f = open(\"test.txt\", \"w\")\n",
    "content = page.readlines()\n",
    "\n",
    "for i in content:\n",
    "    with open(\"test.txt\", \"a\") as f:\n",
    "        f.write(i)\n",
    "f.close()\n",
    "\n",
    "# print(content)\n",
    "\n"
   ]
  },
  {
   "cell_type": "code",
   "execution_count": 1,
   "metadata": {
    "collapsed": true
   },
   "outputs": [],
   "source": [
    "import pandas as pd"
   ]
  },
  {
   "cell_type": "code",
   "execution_count": 3,
   "metadata": {
    "collapsed": false
   },
   "outputs": [],
   "source": [
    "airdata = pd.read_csv(\"test.txt\", sep='|')"
   ]
  },
  {
   "cell_type": "code",
   "execution_count": 4,
   "metadata": {
    "collapsed": false
   },
   "outputs": [
    {
     "data": {
      "text/html": [
       "<div>\n",
       "<table border=\"1\" class=\"dataframe\">\n",
       "  <thead>\n",
       "    <tr style=\"text-align: right;\">\n",
       "      <th></th>\n",
       "      <th>id_visitor</th>\n",
       "      <th>id_session</th>\n",
       "      <th>dim_session_number</th>\n",
       "      <th>dim_user_agent</th>\n",
       "      <th>dim_device_app_combo</th>\n",
       "      <th>ds</th>\n",
       "      <th>ts_min</th>\n",
       "      <th>ts_max</th>\n",
       "      <th>did_search</th>\n",
       "      <th>sent_message</th>\n",
       "      <th>...</th>\n",
       "      <th>next_id_session</th>\n",
       "      <th>next_dim_session_number</th>\n",
       "      <th>next_dim_user_agent</th>\n",
       "      <th>next_dim_device_app_combo</th>\n",
       "      <th>next_ds</th>\n",
       "      <th>next_ts_min</th>\n",
       "      <th>next_ts_max</th>\n",
       "      <th>next_did_search</th>\n",
       "      <th>next_sent_message</th>\n",
       "      <th>next_sent_booking_request</th>\n",
       "    </tr>\n",
       "  </thead>\n",
       "  <tbody>\n",
       "    <tr>\n",
       "      <th>0</th>\n",
       "      <td>ed1329a6-064d-47e9-93bc-93f5a50822df</td>\n",
       "      <td>a8dfb8ed5aa79e00ff14b2da297c9778</td>\n",
       "      <td>83</td>\n",
       "      <td>Airbnb/6.0 iPhone/8.1.2</td>\n",
       "      <td>iPhone - iOS</td>\n",
       "      <td>2015-02-16</td>\n",
       "      <td>2015-02-16 21:50:41</td>\n",
       "      <td>2015-02-16 22:13:42</td>\n",
       "      <td>0</td>\n",
       "      <td>0</td>\n",
       "      <td>...</td>\n",
       "      <td>b812bf56bf89b0b31f4e5b50d0c15ff8</td>\n",
       "      <td>84.0</td>\n",
       "      <td>Mozilla/5.0 (Windows NT 6.1; WOW64) AppleWebKi...</td>\n",
       "      <td>Desktop - Chrome</td>\n",
       "      <td>2015-02-18</td>\n",
       "      <td>2015-02-18 11:57:15</td>\n",
       "      <td>2015-02-18 12:12:48</td>\n",
       "      <td>0.0</td>\n",
       "      <td>0.0</td>\n",
       "      <td>0.0</td>\n",
       "    </tr>\n",
       "    <tr>\n",
       "      <th>1</th>\n",
       "      <td>ed1329a6-064d-47e9-93bc-93f5a50822df</td>\n",
       "      <td>950277daef16f86dc2c05d2b212eea81</td>\n",
       "      <td>84</td>\n",
       "      <td>Mozilla/5.0 (Windows NT 6.1; WOW64) AppleWebKi...</td>\n",
       "      <td>Desktop - Chrome</td>\n",
       "      <td>2015-02-18</td>\n",
       "      <td>2015-02-18 11:57:15</td>\n",
       "      <td>2015-02-18 12:12:48</td>\n",
       "      <td>0</td>\n",
       "      <td>0</td>\n",
       "      <td>...</td>\n",
       "      <td>456083b5f5506ad125d595006819de1d</td>\n",
       "      <td>85.0</td>\n",
       "      <td>Mozilla/5.0 (Windows NT 6.1; WOW64) AppleWebKi...</td>\n",
       "      <td>Desktop - Chrome</td>\n",
       "      <td>2015-02-18</td>\n",
       "      <td>2015-02-18 13:02:13</td>\n",
       "      <td>2015-02-18 13:05:36</td>\n",
       "      <td>0.0</td>\n",
       "      <td>0.0</td>\n",
       "      <td>0.0</td>\n",
       "    </tr>\n",
       "    <tr>\n",
       "      <th>2</th>\n",
       "      <td>ed1329a6-064d-47e9-93bc-93f5a50822df</td>\n",
       "      <td>ee4e2f99dd0c0bef2d40e4bdf880c862</td>\n",
       "      <td>85</td>\n",
       "      <td>Mozilla/5.0 (Windows NT 6.1; WOW64) AppleWebKi...</td>\n",
       "      <td>Desktop - Chrome</td>\n",
       "      <td>2015-02-18</td>\n",
       "      <td>2015-02-18 13:02:13</td>\n",
       "      <td>2015-02-18 13:05:36</td>\n",
       "      <td>0</td>\n",
       "      <td>0</td>\n",
       "      <td>...</td>\n",
       "      <td>94d30e9f3c8f92ae691e49d77a884777</td>\n",
       "      <td>86.0</td>\n",
       "      <td>Mozilla/5.0 (Windows NT 6.1; WOW64) AppleWebKi...</td>\n",
       "      <td>Desktop - Chrome</td>\n",
       "      <td>2015-02-18</td>\n",
       "      <td>2015-02-18 14:18:17</td>\n",
       "      <td>2015-02-18 14:28:47</td>\n",
       "      <td>0.0</td>\n",
       "      <td>0.0</td>\n",
       "      <td>0.0</td>\n",
       "    </tr>\n",
       "    <tr>\n",
       "      <th>3</th>\n",
       "      <td>ed1329a6-064d-47e9-93bc-93f5a50822df</td>\n",
       "      <td>59fbde7b5d35403116c461fa7fc1ab6e</td>\n",
       "      <td>86</td>\n",
       "      <td>Mozilla/5.0 (Windows NT 6.1; WOW64) AppleWebKi...</td>\n",
       "      <td>Desktop - Chrome</td>\n",
       "      <td>2015-02-18</td>\n",
       "      <td>2015-02-18 14:18:17</td>\n",
       "      <td>2015-02-18 14:28:47</td>\n",
       "      <td>0</td>\n",
       "      <td>0</td>\n",
       "      <td>...</td>\n",
       "      <td>ab02139dc81bea4b126cf5043faf53d9</td>\n",
       "      <td>87.0</td>\n",
       "      <td>Mozilla/5.0 (Windows NT 6.1; WOW64) AppleWebKi...</td>\n",
       "      <td>Desktop - Chrome</td>\n",
       "      <td>2015-02-19</td>\n",
       "      <td>2015-02-19 12:24:57</td>\n",
       "      <td>2015-02-19 12:24:59</td>\n",
       "      <td>0.0</td>\n",
       "      <td>0.0</td>\n",
       "      <td>0.0</td>\n",
       "    </tr>\n",
       "    <tr>\n",
       "      <th>4</th>\n",
       "      <td>ed1329a6-064d-47e9-93bc-93f5a50822df</td>\n",
       "      <td>ec8972a3c7256ea4dcba61ee2bd9e3a8</td>\n",
       "      <td>87</td>\n",
       "      <td>Mozilla/5.0 (Windows NT 6.1; WOW64) AppleWebKi...</td>\n",
       "      <td>Desktop - Chrome</td>\n",
       "      <td>2015-02-19</td>\n",
       "      <td>2015-02-19 12:24:57</td>\n",
       "      <td>2015-02-19 12:24:59</td>\n",
       "      <td>0</td>\n",
       "      <td>0</td>\n",
       "      <td>...</td>\n",
       "      <td>6a69db1a5876e9798947f20e2c52bcc8</td>\n",
       "      <td>88.0</td>\n",
       "      <td>Mozilla/5.0 (Windows NT 6.1; WOW64) AppleWebKi...</td>\n",
       "      <td>Desktop - Chrome</td>\n",
       "      <td>2015-02-19</td>\n",
       "      <td>2015-02-19 22:21:58</td>\n",
       "      <td>2015-02-19 22:22:02</td>\n",
       "      <td>0.0</td>\n",
       "      <td>0.0</td>\n",
       "      <td>0.0</td>\n",
       "    </tr>\n",
       "  </tbody>\n",
       "</table>\n",
       "<p>5 rows × 21 columns</p>\n",
       "</div>"
      ],
      "text/plain": [
       "                             id_visitor                        id_session  \\\n",
       "0  ed1329a6-064d-47e9-93bc-93f5a50822df  a8dfb8ed5aa79e00ff14b2da297c9778   \n",
       "1  ed1329a6-064d-47e9-93bc-93f5a50822df  950277daef16f86dc2c05d2b212eea81   \n",
       "2  ed1329a6-064d-47e9-93bc-93f5a50822df  ee4e2f99dd0c0bef2d40e4bdf880c862   \n",
       "3  ed1329a6-064d-47e9-93bc-93f5a50822df  59fbde7b5d35403116c461fa7fc1ab6e   \n",
       "4  ed1329a6-064d-47e9-93bc-93f5a50822df  ec8972a3c7256ea4dcba61ee2bd9e3a8   \n",
       "\n",
       "   dim_session_number                                     dim_user_agent  \\\n",
       "0                  83                            Airbnb/6.0 iPhone/8.1.2   \n",
       "1                  84  Mozilla/5.0 (Windows NT 6.1; WOW64) AppleWebKi...   \n",
       "2                  85  Mozilla/5.0 (Windows NT 6.1; WOW64) AppleWebKi...   \n",
       "3                  86  Mozilla/5.0 (Windows NT 6.1; WOW64) AppleWebKi...   \n",
       "4                  87  Mozilla/5.0 (Windows NT 6.1; WOW64) AppleWebKi...   \n",
       "\n",
       "  dim_device_app_combo          ds               ts_min               ts_max  \\\n",
       "0         iPhone - iOS  2015-02-16  2015-02-16 21:50:41  2015-02-16 22:13:42   \n",
       "1     Desktop - Chrome  2015-02-18  2015-02-18 11:57:15  2015-02-18 12:12:48   \n",
       "2     Desktop - Chrome  2015-02-18  2015-02-18 13:02:13  2015-02-18 13:05:36   \n",
       "3     Desktop - Chrome  2015-02-18  2015-02-18 14:18:17  2015-02-18 14:28:47   \n",
       "4     Desktop - Chrome  2015-02-19  2015-02-19 12:24:57  2015-02-19 12:24:59   \n",
       "\n",
       "   did_search  sent_message            ...              \\\n",
       "0           0             0            ...               \n",
       "1           0             0            ...               \n",
       "2           0             0            ...               \n",
       "3           0             0            ...               \n",
       "4           0             0            ...               \n",
       "\n",
       "                    next_id_session next_dim_session_number  \\\n",
       "0  b812bf56bf89b0b31f4e5b50d0c15ff8                    84.0   \n",
       "1  456083b5f5506ad125d595006819de1d                    85.0   \n",
       "2  94d30e9f3c8f92ae691e49d77a884777                    86.0   \n",
       "3  ab02139dc81bea4b126cf5043faf53d9                    87.0   \n",
       "4  6a69db1a5876e9798947f20e2c52bcc8                    88.0   \n",
       "\n",
       "                                 next_dim_user_agent  \\\n",
       "0  Mozilla/5.0 (Windows NT 6.1; WOW64) AppleWebKi...   \n",
       "1  Mozilla/5.0 (Windows NT 6.1; WOW64) AppleWebKi...   \n",
       "2  Mozilla/5.0 (Windows NT 6.1; WOW64) AppleWebKi...   \n",
       "3  Mozilla/5.0 (Windows NT 6.1; WOW64) AppleWebKi...   \n",
       "4  Mozilla/5.0 (Windows NT 6.1; WOW64) AppleWebKi...   \n",
       "\n",
       "  next_dim_device_app_combo     next_ds          next_ts_min  \\\n",
       "0          Desktop - Chrome  2015-02-18  2015-02-18 11:57:15   \n",
       "1          Desktop - Chrome  2015-02-18  2015-02-18 13:02:13   \n",
       "2          Desktop - Chrome  2015-02-18  2015-02-18 14:18:17   \n",
       "3          Desktop - Chrome  2015-02-19  2015-02-19 12:24:57   \n",
       "4          Desktop - Chrome  2015-02-19  2015-02-19 22:21:58   \n",
       "\n",
       "           next_ts_max next_did_search  next_sent_message  \\\n",
       "0  2015-02-18 12:12:48             0.0                0.0   \n",
       "1  2015-02-18 13:05:36             0.0                0.0   \n",
       "2  2015-02-18 14:28:47             0.0                0.0   \n",
       "3  2015-02-19 12:24:59             0.0                0.0   \n",
       "4  2015-02-19 22:22:02             0.0                0.0   \n",
       "\n",
       "   next_sent_booking_request  \n",
       "0                        0.0  \n",
       "1                        0.0  \n",
       "2                        0.0  \n",
       "3                        0.0  \n",
       "4                        0.0  \n",
       "\n",
       "[5 rows x 21 columns]"
      ]
     },
     "execution_count": 4,
     "metadata": {},
     "output_type": "execute_result"
    }
   ],
   "source": [
    "airdata.head()"
   ]
  },
  {
   "cell_type": "code",
   "execution_count": 5,
   "metadata": {
    "collapsed": false
   },
   "outputs": [
    {
     "name": "stdout",
     "output_type": "stream",
     "text": [
      "<class 'pandas.core.frame.DataFrame'>\n",
      "RangeIndex: 7756 entries, 0 to 7755\n",
      "Data columns (total 21 columns):\n",
      "id_visitor                   7756 non-null object\n",
      "id_session                   7756 non-null object\n",
      "dim_session_number           7756 non-null int64\n",
      "dim_user_agent               7537 non-null object\n",
      "dim_device_app_combo         7756 non-null object\n",
      "ds                           7756 non-null object\n",
      "ts_min                       7756 non-null object\n",
      "ts_max                       7756 non-null object\n",
      "did_search                   7756 non-null int64\n",
      "sent_message                 7756 non-null int64\n",
      "sent_booking_request         7756 non-null int64\n",
      "next_id_session              7126 non-null object\n",
      "next_dim_session_number      7126 non-null float64\n",
      "next_dim_user_agent          6927 non-null object\n",
      "next_dim_device_app_combo    7126 non-null object\n",
      "next_ds                      7126 non-null object\n",
      "next_ts_min                  7126 non-null object\n",
      "next_ts_max                  7126 non-null object\n",
      "next_did_search              7126 non-null float64\n",
      "next_sent_message            7126 non-null float64\n",
      "next_sent_booking_request    7126 non-null float64\n",
      "dtypes: float64(4), int64(4), object(13)\n",
      "memory usage: 1.2+ MB\n"
     ]
    }
   ],
   "source": [
    "airdata.info()"
   ]
  },
  {
   "cell_type": "code",
   "execution_count": 6,
   "metadata": {
    "collapsed": false
   },
   "outputs": [
    {
     "ename": "AttributeError",
     "evalue": "'DataFrame' object has no attribute 'colnames'",
     "output_type": "error",
     "traceback": [
      "\u001b[0;31m---------------------------------------------------------------------------\u001b[0m",
      "\u001b[0;31mAttributeError\u001b[0m                            Traceback (most recent call last)",
      "\u001b[0;32m<ipython-input-6-9b6df229481e>\u001b[0m in \u001b[0;36m<module>\u001b[0;34m()\u001b[0m\n\u001b[0;32m----> 1\u001b[0;31m \u001b[0mairdata\u001b[0m\u001b[0;34m.\u001b[0m\u001b[0mcolnames\u001b[0m\u001b[0;34m(\u001b[0m\u001b[0;34m)\u001b[0m\u001b[0;34m\u001b[0m\u001b[0m\n\u001b[0m",
      "\u001b[0;32m/Users/vMac/anaconda2/lib/python2.7/site-packages/pandas/core/generic.pyc\u001b[0m in \u001b[0;36m__getattr__\u001b[0;34m(self, name)\u001b[0m\n\u001b[1;32m   2742\u001b[0m             \u001b[0;32mif\u001b[0m \u001b[0mname\u001b[0m \u001b[0;32min\u001b[0m \u001b[0mself\u001b[0m\u001b[0;34m.\u001b[0m\u001b[0m_info_axis\u001b[0m\u001b[0;34m:\u001b[0m\u001b[0;34m\u001b[0m\u001b[0m\n\u001b[1;32m   2743\u001b[0m                 \u001b[0;32mreturn\u001b[0m \u001b[0mself\u001b[0m\u001b[0;34m[\u001b[0m\u001b[0mname\u001b[0m\u001b[0;34m]\u001b[0m\u001b[0;34m\u001b[0m\u001b[0m\n\u001b[0;32m-> 2744\u001b[0;31m             \u001b[0;32mreturn\u001b[0m \u001b[0mobject\u001b[0m\u001b[0;34m.\u001b[0m\u001b[0m__getattribute__\u001b[0m\u001b[0;34m(\u001b[0m\u001b[0mself\u001b[0m\u001b[0;34m,\u001b[0m \u001b[0mname\u001b[0m\u001b[0;34m)\u001b[0m\u001b[0;34m\u001b[0m\u001b[0m\n\u001b[0m\u001b[1;32m   2745\u001b[0m \u001b[0;34m\u001b[0m\u001b[0m\n\u001b[1;32m   2746\u001b[0m     \u001b[0;32mdef\u001b[0m \u001b[0m__setattr__\u001b[0m\u001b[0;34m(\u001b[0m\u001b[0mself\u001b[0m\u001b[0;34m,\u001b[0m \u001b[0mname\u001b[0m\u001b[0;34m,\u001b[0m \u001b[0mvalue\u001b[0m\u001b[0;34m)\u001b[0m\u001b[0;34m:\u001b[0m\u001b[0;34m\u001b[0m\u001b[0m\n",
      "\u001b[0;31mAttributeError\u001b[0m: 'DataFrame' object has no attribute 'colnames'"
     ]
    }
   ],
   "source": [
    "airdata.colnames()"
   ]
  },
  {
   "cell_type": "code",
   "execution_count": null,
   "metadata": {
    "collapsed": true
   },
   "outputs": [],
   "source": []
  }
 ],
 "metadata": {
  "anaconda-cloud": {},
  "kernelspec": {
   "display_name": "Python [conda root]",
   "language": "python",
   "name": "conda-root-py"
  },
  "language_info": {
   "codemirror_mode": {
    "name": "ipython",
    "version": 2
   },
   "file_extension": ".py",
   "mimetype": "text/x-python",
   "name": "python",
   "nbconvert_exporter": "python",
   "pygments_lexer": "ipython2",
   "version": "2.7.12"
  }
 },
 "nbformat": 4,
 "nbformat_minor": 2
}
